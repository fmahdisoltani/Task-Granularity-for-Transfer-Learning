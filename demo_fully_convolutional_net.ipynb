{
 "cells": [
  {
   "cell_type": "markdown",
   "metadata": {},
   "source": [
    "#  Demo with Fully Convolutional Net"
   ]
  },
  {
   "cell_type": "markdown",
   "metadata": {},
   "source": [
    "This notebook shows how to load and use **Fully Convolutional Net** from **rtorchn**.\n",
    "\n",
    "The network implementation can be found [here](https://github.com/TwentyBN/20bn-rtorchn/blob/master/src/main/python/rtorchn/core/networks/smtsmt.py).\n",
    "    \n",
    "\n",
    "When trained on something-something (version: 27/06/2017), this network achieves **~30% test accuracy**."
   ]
  },
  {
   "cell_type": "markdown",
   "metadata": {},
   "source": [
    "### Imports"
   ]
  },
  {
   "cell_type": "code",
   "execution_count": null,
   "metadata": {
    "collapsed": true
   },
   "outputs": [],
   "source": [
    "import io\n",
    "import base64\n",
    "import glob\n",
    "import os\n",
    "\n",
    "import gzip\n",
    "import json\n",
    "import numpy as np\n",
    "import torch\n",
    "from IPython.display import HTML\n",
    "from skvideo.io import FFmpegReader, ffprobe, vwrite\n",
    "from torch.autograd import Variable"
   ]
  },
  {
   "cell_type": "markdown",
   "metadata": {},
   "source": [
    "### Tool to deal with mpeg videos"
   ]
  },
  {
   "cell_type": "code",
   "execution_count": null,
   "metadata": {
    "collapsed": true
   },
   "outputs": [],
   "source": [
    "def show_video(video_filenames):\n",
    "    \"\"\"\n",
    "    Tool to display videos inside the notebook.\n",
    "    \"\"\"\n",
    "    \n",
    "    if type(video_filenames) is not list:\n",
    "        video_filenames = [video_filenames]\n",
    "    \n",
    "    html_code = ''\n",
    "    for filename in video_filenames:\n",
    "        video = io.open(filename, 'r+b').read()\n",
    "        encoded = base64.b64encode(video)\n",
    "        html_code += '''\n",
    "        <video alt=\"test\" width=\"640\" height=\"480\" controls>\n",
    "        <source src=\"data:video/mp4;base64,{0}\" type=\"video/mp4\" />\n",
    "        </video>\n",
    "        '''.format(encoded.decode('ascii'))\n",
    "        \n",
    "    return HTML(data= html_code)\n",
    "\n",
    "\n",
    "def open_mpeg_video(fname, framerate, size):\n",
    "    \"\"\"\n",
    "    Open an mpeg video, and return it as a numpy array.\n",
    "    \"\"\"\n",
    "    \n",
    "    metadata = ffprobe(fname)\n",
    "    duration = float(metadata['video']['@duration'])\n",
    "    # Compute corresponding nb of frames\n",
    "    nframes = int(duration * framerate)\n",
    "    oargs = {\n",
    "        \"-r\": \"%d\" % framerate,\n",
    "        \"-vframes\": \"%d\" % nframes,\n",
    "        \"-s\": \"%dx%d\" % (size[0], size[1])\n",
    "    }\n",
    "    # Open file\n",
    "    reader = FFmpegReader(fname, inputdict={}, outputdict=oargs)\n",
    "    video = []\n",
    "    # Get frames until there is no more\n",
    "    for frame in reader.nextFrame():\n",
    "        video.append(frame)\n",
    "    # Return as a numpy array\n",
    "    return np.array(video)"
   ]
  },
  {
   "cell_type": "markdown",
   "metadata": {},
   "source": [
    "### Mapping Class index <-> Class string"
   ]
  },
  {
   "cell_type": "code",
   "execution_count": null,
   "metadata": {
    "collapsed": true
   },
   "outputs": [],
   "source": [
    "int2label = {\n",
    "     0: 'Approaching [something] with your camera',\n",
    "     1: 'Attaching [something] to [something]',\n",
    "     2: 'Bending [something] so that it deforms',\n",
    "     3: 'Bending [something] until it breaks',\n",
    "     4: 'Burying [something] in [something]',\n",
    "     5: 'Closing [something]',\n",
    "     6: 'Covering [something] with [something]',\n",
    "     7: 'Digging [something] out of [something]',\n",
    "     8: 'Dropping [something] behind [something]',\n",
    "     9: 'Dropping [something] in front of [something]',\n",
    "     10: 'Dropping [something] into [something]',\n",
    "     11: 'Dropping [something] next to [something]',\n",
    "     12: 'Dropping [something] onto [something]',\n",
    "     13: 'Failing to put [something] into [something] because [something] does not fit',\n",
    "     14: 'Folding [something]',\n",
    "     15: 'Hitting [something] with [something]',\n",
    "     16: 'Holding [something]',\n",
    "     17: 'Holding [something] behind [something]',\n",
    "     18: 'Holding [something] in front of [something]',\n",
    "     19: 'Holding [something] next to [something]',\n",
    "     20: 'Holding [something] over [something]',\n",
    "     21: 'Laying [something] on the table on its side, not upright',\n",
    "     22: 'Letting [something] roll along a flat surface',\n",
    "     23: 'Letting [something] roll down a slanted surface',\n",
    "     24: 'Letting [something] roll up a slanted surface, so it rolls back down',\n",
    "     25: 'Lifting [something] up completely without letting it drop down',\n",
    "     26: 'Lifting [something] up completely, then letting it drop down',\n",
    "     27: 'Lifting [something] with [something] on it',\n",
    "     28: 'Lifting a surface with [something] on it but not enough for it to slide down',\n",
    "     29: 'Lifting a surface with [something] on it until it starts sliding down',\n",
    "     30: 'Lifting up one end of [something] without letting it drop down',\n",
    "     31: 'Lifting up one end of [something], then letting it drop down',\n",
    "     32: 'Moving [part] of [something]',\n",
    "     33: 'Moving [something] across a surface until it falls down',\n",
    "     34: 'Moving [something] across a surface without it falling down',\n",
    "     35: 'Moving [something] and [something] away from each other',\n",
    "     36: 'Moving [something] and [something] closer to each other',\n",
    "     37: 'Moving [something] and [something] so they collide with each other',\n",
    "     38: 'Moving [something] and [something] so they pass each other',\n",
    "     39: 'Moving [something] away from [something]',\n",
    "     40: 'Moving [something] away from the camera',\n",
    "     41: 'Moving [something] closer to [something]',\n",
    "     42: 'Moving [something] down',\n",
    "     43: 'Moving [something] towards the camera',\n",
    "     44: 'Moving [something] up',\n",
    "     45: 'Moving away from [something] with your camera',\n",
    "     46: 'Opening [something]',\n",
    "     47: 'Picking [something] up',\n",
    "     48: 'Piling [something] up',\n",
    "     49: 'Plugging [something] into [something]',\n",
    "     50: 'Plugging [something] into [something] but pulling it right out as you remove your hand',\n",
    "     51: 'Poking [something] so it slightly moves',\n",
    "     52: 'Poking [something] so lightly that it doesn’t or almost doesn’t move',\n",
    "     53: 'Poking [something] so that it falls over',\n",
    "     54: 'Poking [something] so that it spins around',\n",
    "     55: 'Poking a hole into [some substance]',\n",
    "     56: 'Poking a hole into [something soft]',\n",
    "     57: 'Poking a stack of [something] so the stack collapses',\n",
    "     58: 'Poking a stack of [something] without the stack collapsing',\n",
    "     59: 'Pouring [something] into [something]',\n",
    "     60: 'Pouring [something] into [something] until it overflows',\n",
    "     61: 'Pouring [something] onto [something]',\n",
    "     62: 'Pouring [something] out of [something]',\n",
    "     63: 'Pretending or failing to wipe [something] off of [something]',\n",
    "     64: 'Pretending or trying and failing to twist [something]',\n",
    "     65: 'Pretending to be tearing [something that is not tearable]',\n",
    "     66: 'Pretending to close [something] without actually closing it',\n",
    "     67: 'Pretending to open [something] without actually opening it',\n",
    "     68: 'Pretending to pick [something] up',\n",
    "     69: 'Pretending to poke [something]',\n",
    "     70: 'Pretending to pour [something] out of [something], but [something] is empty',\n",
    "     71: 'Pretending to put [something] behind [something]',\n",
    "     72: 'Pretending to put [something] into [something]',\n",
    "     73: 'Pretending to put [something] next to [something]',\n",
    "     74: 'Pretending to put [something] on a surface',\n",
    "     75: 'Pretending to put [something] onto [something]',\n",
    "     76: 'Pretending to put [something] underneath [something]',\n",
    "     77: 'Pretending to scoop [something] up with [something]',\n",
    "     78: 'Pretending to spread “air” onto [something]',\n",
    "     79: 'Pretending to sprinkle \"air\" onto [something]',\n",
    "     80: 'Pretending to squeeze [something]',\n",
    "     81: 'Pretending to take [something] from [somewhere]',\n",
    "     82: 'Pretending to take [something] out of [something]',\n",
    "     83: 'Pretending to throw [something]',\n",
    "     84: 'Pretending to turn [something] upside down',\n",
    "     85: 'Pulling [something] from behind of [something]',\n",
    "     86: 'Pulling [something] from left to right',\n",
    "     87: 'Pulling [something] from right to left',\n",
    "     88: 'Pulling [something] onto [something]',\n",
    "     89: 'Pulling [something] out of [something]',\n",
    "     90: 'Pulling two ends of [something] but nothing happens',\n",
    "     91: 'Pulling two ends of [something] so that it gets stretched',\n",
    "     92: 'Pulling two ends of [something] so that it separates into two pieces',\n",
    "     93: 'Pushing [something] from left to right',\n",
    "     94: 'Pushing [something] from right to left',\n",
    "     95: 'Pushing [something] off of [something]',\n",
    "     96: 'Pushing [something] onto [something]',\n",
    "     97: 'Pushing [something] so it spins',\n",
    "     98: \"Pushing [something] so that it almost falls off but doesn't\",\n",
    "     99: 'Pushing [something] so that it falls off the table',\n",
    "     100: 'Pushing [something] so that it slightly moves',\n",
    "     101: 'Pushing [something] with [something]',\n",
    "     102: 'Putting [number of] [something] onto [something]',\n",
    "     103: 'Putting [something similar to other things that are already on the table]',\n",
    "     104: 'Putting [something that cannot actually stand upright] upright on the table, so it falls on its side',\n",
    "     105: 'Putting [something] and [something] on the table',\n",
    "     106: 'Putting [something] behind [something]',\n",
    "     107: 'Putting [something] in front of [something]',\n",
    "     108: 'Putting [something] into [something]',\n",
    "     109: 'Putting [something] next to [something]',\n",
    "     110: 'Putting [something] on a flat surface without letting it roll',\n",
    "     111: 'Putting [something] on a surface',\n",
    "     112: 'Putting [something] on the edge of [something] so it is not supported and falls down',\n",
    "     113: 'Putting [something] onto [something else that cannot support it] so it falls down',\n",
    "     114: 'Putting [something] onto [something]',\n",
    "     115: 'Putting [something] onto a slanted surface but it doesn’t glide down',\n",
    "     116: 'Putting [something] that can’t roll onto a slanted surface, so it slides down',\n",
    "     117: 'Putting [something] that can’t roll onto a slanted surface, so it stays where it is',\n",
    "     118: 'Putting [something] underneath [something]',\n",
    "     119: 'Putting [something] upright on the table',\n",
    "     120: 'Putting [something], [something] and [something] on the table',\n",
    "     121: 'Removing [something], revealing [something] behind',\n",
    "     122: 'Rolling [something] on a flat surface',\n",
    "     123: 'Scooping [something] up with [something]',\n",
    "     124: 'Show a shadow of [something] that is moving. ',\n",
    "     125: 'Show a shadow of [something], making sure the shadow is not moving. ',\n",
    "     126: 'Showing [something] behind [something]',\n",
    "     127: 'Showing [something] next to [something]',\n",
    "     128: 'Showing [something] on top of [something]',\n",
    "     129: 'Showing [something] to the camera',\n",
    "     130: 'Showing a photo of [something] to the camera',\n",
    "     131: 'Showing a shadow of [something] that is moving.',\n",
    "     132: 'Showing a shadow of [something], making sure the shadow is not moving.',\n",
    "     133: 'Showing that [something] is empty',\n",
    "     134: 'Showing that [something] is inside [something]',\n",
    "     135: 'Spilling [something] behind [something]',\n",
    "     136: 'Spilling [something] next to [something]',\n",
    "     137: 'Spilling [something] onto [something]',\n",
    "     138: 'Spinning [something] so it continues spinning',\n",
    "     139: 'Spinning [something] that quickly stops spinning',\n",
    "     140: 'Spreading [something] onto [something]',\n",
    "     141: 'Sprinkling [something] onto [something]',\n",
    "     142: 'Squeezing [something]',\n",
    "     143: 'Stacking [number of] [something]',\n",
    "     144: 'Stuffing [something] into [something]',\n",
    "     145: 'Taking [one of many similar things on the table]',\n",
    "     146: 'Taking [something] from [somewhere]',\n",
    "     147: 'Taking [something] out of [something]',\n",
    "     148: 'Tearing [something] into two pieces',\n",
    "     149: 'Tearing [something] just a little bit',\n",
    "     150: 'Throwing [something]',\n",
    "     151: 'Throwing [something] against [something]',\n",
    "     152: 'Throwing [something] in the air and catching it',\n",
    "     153: 'Throwing [something] in the air and letting it fall',\n",
    "     154: 'Throwing [something] onto a surface',\n",
    "     155: 'Tilting [something] with [something] on it slightly so it doesn’t fall down',\n",
    "     156: 'Tilting [something] with [something] on it until it falls off',\n",
    "     157: 'Tipping [something] over',\n",
    "     158: 'Tipping [something] with [something in it] over, so [something in it] falls out',\n",
    "     159: 'Touching (without moving) [part] of [something]',\n",
    "     160: 'Trying but failing to attach [something] to [something] because it doesn’t stick',\n",
    "     161: 'Trying to bend [something unbendable] so nothing happens',\n",
    "     162: 'Trying to pour [something] into [something], but missing so it spills next to it',\n",
    "     163: 'Turning [something] upside down',\n",
    "     164: 'Turning the camera downwards while filming [something]',\n",
    "     165: 'Turning the camera left while filming [something]',\n",
    "     166: 'Turning the camera right while filming [something]',\n",
    "     167: 'Turning the camera upwards while filming [something]',\n",
    "     168: 'Twisting (wringing) [something] wet until water comes out',\n",
    "     169: 'Twisting [something]',\n",
    "     170: 'Uncovering [something]',\n",
    "     171: 'Unfolding [something]',\n",
    "     172: 'Wiping [something] off of [something]',\n",
    "     173: '[Something] being deflected from [something]',\n",
    "     174: '[Something] colliding with [something] and both are being deflected',\n",
    "     175: '[Something] colliding with [something] and both come to a halt',\n",
    "     176: '[Something] falling like a feather or paper',\n",
    "     177: '[Something] falling like a rock'\n",
    "}"
   ]
  },
  {
   "cell_type": "markdown",
   "metadata": {},
   "source": [
    "## A) Model Instantiation"
   ]
  },
  {
   "cell_type": "markdown",
   "metadata": {},
   "source": [
    "All **rtorchn** models can be imported from **rtorchn.core.networks**:"
   ]
  },
  {
   "cell_type": "code",
   "execution_count": null,
   "metadata": {
    "collapsed": true
   },
   "outputs": [],
   "source": [
    "from rtorchn.core.networks import FullyConvolutionalNet\n",
    "\n",
    "net = FullyConvolutionalNet(num_classes=178)"
   ]
  },
  {
   "cell_type": "markdown",
   "metadata": {},
   "source": [
    "### Crash test"
   ]
  },
  {
   "cell_type": "code",
   "execution_count": null,
   "metadata": {},
   "outputs": [],
   "source": [
    "print('Default input size:', net.default_input_size())\n",
    "# Create a dummy video\n",
    "video = np.zeros(net.default_input_size(), \"float32\")\n",
    "# Get prediction\n",
    "pred = net.forward(Variable(torch.from_numpy(video)))\n",
    "print('Prediction shape:', pred.size())"
   ]
  },
  {
   "cell_type": "markdown",
   "metadata": {},
   "source": [
    "### Total number of parameters"
   ]
  },
  {
   "cell_type": "code",
   "execution_count": null,
   "metadata": {},
   "outputs": [],
   "source": [
    "num_params = sum([np.prod(param.size()) \n",
    "                  for param in net.parameters()])\n",
    "print('Total number of parameters: {}'.format(num_params))"
   ]
  },
  {
   "cell_type": "markdown",
   "metadata": {},
   "source": [
    "## B) Loading weights"
   ]
  },
  {
   "cell_type": "markdown",
   "metadata": {},
   "source": [
    "Send me a message if you want these weights"
   ]
  },
  {
   "cell_type": "code",
   "execution_count": null,
   "metadata": {
    "collapsed": true
   },
   "outputs": [],
   "source": [
    "checkpoint = torch.load('/home/guillaume/weights/FullyConvolutionalNet/model.checkpoint')\n",
    "net.load_state_dict(checkpoint)"
   ]
  },
  {
   "cell_type": "markdown",
   "metadata": {},
   "source": [
    "## C) Testing "
   ]
  },
  {
   "cell_type": "code",
   "execution_count": null,
   "metadata": {
    "collapsed": true
   },
   "outputs": [],
   "source": [
    "TMP_VIDEO_FILENAME = 'tmp.mp4'\n",
    "\n",
    "def unpreprocess(video):\n",
    "    video = video.data.numpy()[0]\n",
    "    video = 64. * video.transpose(1, 2, 3, 0)\n",
    "    return np.array(video, 'uint8')\n",
    "\n",
    "def demo(net, preprocessor, filename, top_n=5):\n",
    "    # Open mpeg file and get a numpy array\n",
    "    video_uint8 = open_mpeg_video(filename, 12, [128, 128])\n",
    "    # Preprocessing\n",
    "    video = preprocessor(video_uint8)\n",
    "    # Convert to torch variable\n",
    "    video = Variable(torch.from_numpy(video[None]), volatile=True)\n",
    "    # Compute predictions\n",
    "    pred = net.forward(video)\n",
    "    # Convert to numpy \n",
    "    pred = np.exp(pred.data.numpy())[0]\n",
    "    # Class index\n",
    "    cls_indices = pred.argsort()[-top_n:][::-1]\n",
    "    # Print class name with proba\n",
    "    for index in cls_indices:\n",
    "        cls = int2label[index]\n",
    "        print('{:60s}{:.3f}'.format(cls, pred[index]))\n",
    "    # Save input video in tmp file\n",
    "    vwrite(TMP_VIDEO_FILENAME, unpreprocess(video))\n",
    "    return show_video([filename, TMP_VIDEO_FILENAME])\n",
    "\n",
    "def path_generator(annotation_path, root_path):\n",
    "    with gzip.open(annotation_path, \"rt\") as f:\n",
    "        annotations = json.load(f)\n",
    "    files = [elem['file'] for elem in annotations]\n",
    "    labels = [elem['template'] for elem in annotations]\n",
    "    return ((os.path.join(root_path, f), label) for f,label in zip(files, labels))"
   ]
  },
  {
   "cell_type": "code",
   "execution_count": null,
   "metadata": {
    "collapsed": true
   },
   "outputs": [],
   "source": [
    "# Path generator\n",
    "path_gen = path_generator('/data/20bn-objects/json/test_20170627.json.gz', \n",
    "                          '/data/20bn-objects/videos')\n",
    "# Put the network in evaluation mode\n",
    "_ = net.eval()"
   ]
  },
  {
   "cell_type": "markdown",
   "metadata": {},
   "source": [
    "#### Preprocessor"
   ]
  },
  {
   "cell_type": "code",
   "execution_count": null,
   "metadata": {
    "collapsed": true
   },
   "outputs": [],
   "source": [
    "from rtorchn.preprocessing import default_evaluation_preprocesser\n",
    "\n",
    "preprocessor = default_evaluation_preprocesser([48, 96, 96], 64.)"
   ]
  },
  {
   "cell_type": "markdown",
   "metadata": {},
   "source": [
    "#### Ctrl + Enter"
   ]
  },
  {
   "cell_type": "code",
   "execution_count": 1,
   "metadata": {
    "scrolled": false
   },
   "outputs": [
    {
     "ename": "NameError",
     "evalue": "name 'path_gen' is not defined",
     "traceback": [
      "\u001b[0;31m---------------------------------------------------------------------------\u001b[0m",
      "\u001b[0;31mNameError\u001b[0m                                 Traceback (most recent call last)",
      "\u001b[0;32m<ipython-input-1-50effc6346ac>\u001b[0m in \u001b[0;36m<module>\u001b[0;34m()\u001b[0m\n\u001b[0;32m----> 1\u001b[0;31m \u001b[0mpath_to_video\u001b[0m\u001b[0;34m,\u001b[0m \u001b[0mlabel\u001b[0m \u001b[0;34m=\u001b[0m \u001b[0mnext\u001b[0m\u001b[0;34m(\u001b[0m\u001b[0mpath_gen\u001b[0m\u001b[0;34m)\u001b[0m\u001b[0;34m\u001b[0m\u001b[0m\n\u001b[0m\u001b[1;32m      2\u001b[0m \u001b[0mprint\u001b[0m\u001b[0;34m(\u001b[0m\u001b[0;34m'Label: {}\\n{}'\u001b[0m\u001b[0;34m.\u001b[0m\u001b[0mformat\u001b[0m\u001b[0;34m(\u001b[0m\u001b[0mlabel\u001b[0m\u001b[0;34m,\u001b[0m \u001b[0;36m65\u001b[0m\u001b[0;34m*\u001b[0m\u001b[0;34m'-'\u001b[0m\u001b[0;34m)\u001b[0m\u001b[0;34m)\u001b[0m\u001b[0;34m\u001b[0m\u001b[0m\n\u001b[1;32m      3\u001b[0m \u001b[0mdemo\u001b[0m\u001b[0;34m(\u001b[0m\u001b[0mnet\u001b[0m\u001b[0;34m,\u001b[0m \u001b[0mpreprocessor\u001b[0m\u001b[0;34m,\u001b[0m \u001b[0mpath_to_video\u001b[0m\u001b[0;34m)\u001b[0m\u001b[0;34m\u001b[0m\u001b[0m\n",
      "\u001b[0;31mNameError\u001b[0m: name 'path_gen' is not defined"
     ],
     "output_type": "error"
    }
   ],
   "source": [
    "path_to_video, label = next(path_gen)\n",
    "print('Label: {}\\n{}'.format(label, 65*'-'))\n",
    "demo(net, preprocessor, path_to_video)"
   ]
  },
  {
   "cell_type": "markdown",
   "metadata": {},
   "source": [
    "## D) Feature Extraction"
   ]
  },
  {
   "cell_type": "markdown",
   "metadata": {},
   "source": [
    "You can use the `extract_features` method to extract the activation values just before the output layers:"
   ]
  },
  {
   "cell_type": "code",
   "execution_count": 15,
   "metadata": {},
   "outputs": [
    {
     "name": "stdout",
     "output_type": "stream",
     "text": [
      "Prediction shape: torch.Size([1, 4, 256])\n"
     ]
    }
   ],
   "source": [
    "# Create a dummy video\n",
    "video = np.zeros(net.default_input_size(), \"float32\")\n",
    "# Get prediction\n",
    "features = net.extract_features(Variable(torch.from_numpy(video)))\n",
    "print('Prediction shape:', features.size())"
   ]
  },
  {
   "cell_type": "markdown",
   "metadata": {},
   "source": [
    "## E) Finetuning"
   ]
  },
  {
   "cell_type": "code",
   "execution_count": 24,
   "metadata": {
    "collapsed": true
   },
   "outputs": [],
   "source": [
    "# Coming soon"
   ]
  },
  {
   "cell_type": "code",
   "execution_count": null,
   "metadata": {
    "collapsed": true
   },
   "outputs": [],
   "source": [
    ""
   ]
  }
 ],
 "metadata": {
  "kernelspec": {
   "display_name": "Python 2",
   "language": "python",
   "name": "python2"
  },
  "language_info": {
   "codemirror_mode": {
    "name": "ipython",
    "version": 3.0
   },
   "file_extension": ".py",
   "mimetype": "text/x-python",
   "name": "python",
   "nbconvert_exporter": "python",
   "pygments_lexer": "ipython3",
   "version": "3.5.2"
  }
 },
 "nbformat": 4,
 "nbformat_minor": 0
}